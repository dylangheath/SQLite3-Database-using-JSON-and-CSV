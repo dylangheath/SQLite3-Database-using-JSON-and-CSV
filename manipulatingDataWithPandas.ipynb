{
 "cells": [
  {
   "cell_type": "code",
   "execution_count": 31,
   "metadata": {},
   "outputs": [
    {
     "data": {
      "text/html": [
       "<div>\n",
       "<style scoped>\n",
       "    .dataframe tbody tr th:only-of-type {\n",
       "        vertical-align: middle;\n",
       "    }\n",
       "\n",
       "    .dataframe tbody tr th {\n",
       "        vertical-align: top;\n",
       "    }\n",
       "\n",
       "    .dataframe thead th {\n",
       "        text-align: right;\n",
       "    }\n",
       "</style>\n",
       "<table border=\"1\" class=\"dataframe\">\n",
       "  <thead>\n",
       "    <tr style=\"text-align: right;\">\n",
       "      <th></th>\n",
       "      <th>Cities</th>\n",
       "      <th>ChickFilA</th>\n",
       "      <th>McDonalds</th>\n",
       "      <th>Total_Restaraunts</th>\n",
       "      <th>PercentChickFilA</th>\n",
       "      <th>PercentMcDonalds</th>\n",
       "    </tr>\n",
       "  </thead>\n",
       "  <tbody>\n",
       "    <tr>\n",
       "      <th>0</th>\n",
       "      <td>Seattle</td>\n",
       "      <td>3</td>\n",
       "      <td>23</td>\n",
       "      <td>260</td>\n",
       "      <td>1.153846</td>\n",
       "      <td>8.846154</td>\n",
       "    </tr>\n",
       "    <tr>\n",
       "      <th>1</th>\n",
       "      <td>Portland</td>\n",
       "      <td>2</td>\n",
       "      <td>15</td>\n",
       "      <td>452</td>\n",
       "      <td>0.442478</td>\n",
       "      <td>3.318584</td>\n",
       "    </tr>\n",
       "    <tr>\n",
       "      <th>2</th>\n",
       "      <td>San Francisco</td>\n",
       "      <td>6</td>\n",
       "      <td>35</td>\n",
       "      <td>324</td>\n",
       "      <td>1.851852</td>\n",
       "      <td>10.802469</td>\n",
       "    </tr>\n",
       "    <tr>\n",
       "      <th>3</th>\n",
       "      <td>Los Angeles</td>\n",
       "      <td>8</td>\n",
       "      <td>65</td>\n",
       "      <td>523</td>\n",
       "      <td>1.529637</td>\n",
       "      <td>12.428298</td>\n",
       "    </tr>\n",
       "  </tbody>\n",
       "</table>\n",
       "</div>"
      ],
      "text/plain": [
       "          Cities  ChickFilA  McDonalds  Total_Restaraunts  PercentChickFilA  \\\n",
       "0        Seattle          3         23                260          1.153846   \n",
       "1       Portland          2         15                452          0.442478   \n",
       "2  San Francisco          6         35                324          1.851852   \n",
       "3    Los Angeles          8         65                523          1.529637   \n",
       "\n",
       "   PercentMcDonalds  \n",
       "0          8.846154  \n",
       "1          3.318584  \n",
       "2         10.802469  \n",
       "3         12.428298  "
      ]
     },
     "execution_count": 31,
     "metadata": {},
     "output_type": "execute_result"
    }
   ],
   "source": [
    "import pandas as pd\n",
    "import json\n",
    "import sqlite3\n",
    "\n",
    "with open(\"DataRestaurant.json\") as f:\n",
    "    data = json.load(f)\n",
    "\n",
    "dataframe = pd.DataFrame(data)\n",
    "dataframe.head()\n",
    "\n"
   ]
  },
  {
   "cell_type": "code",
   "execution_count": 35,
   "metadata": {},
   "outputs": [],
   "source": [
    "import requests\n",
    "\n",
    "countries_api_res = requests.get('http://api.worldbank.org/countries?format=json&per_page=100')\n",
    "countries_data = countries_api_res.json()[1]\n",
    "dataframe2 = pd.DataFrame(countries_data)"
   ]
  },
  {
   "cell_type": "code",
   "execution_count": 50,
   "metadata": {},
   "outputs": [
    {
     "data": {
      "text/html": [
       "<div>\n",
       "<style scoped>\n",
       "    .dataframe tbody tr th:only-of-type {\n",
       "        vertical-align: middle;\n",
       "    }\n",
       "\n",
       "    .dataframe tbody tr th {\n",
       "        vertical-align: top;\n",
       "    }\n",
       "\n",
       "    .dataframe thead th {\n",
       "        text-align: right;\n",
       "    }\n",
       "</style>\n",
       "<table border=\"1\" class=\"dataframe\">\n",
       "  <thead>\n",
       "    <tr style=\"text-align: right;\">\n",
       "      <th></th>\n",
       "      <th>id</th>\n",
       "      <th>iso2Code</th>\n",
       "      <th>name</th>\n",
       "      <th>region</th>\n",
       "      <th>adminregion</th>\n",
       "      <th>incomeLevel</th>\n",
       "      <th>lendingType</th>\n",
       "      <th>capitalCity</th>\n",
       "      <th>longitude</th>\n",
       "      <th>latitude</th>\n",
       "    </tr>\n",
       "  </thead>\n",
       "  <tbody>\n",
       "    <tr>\n",
       "      <th>0</th>\n",
       "      <td>ABW</td>\n",
       "      <td>AW</td>\n",
       "      <td>Aruba</td>\n",
       "      <td>{'id': 'LCN', 'iso2code': 'ZJ', 'value': 'Lati...</td>\n",
       "      <td>{'id': '', 'iso2code': '', 'value': ''}</td>\n",
       "      <td>{'id': 'HIC', 'iso2code': 'XD', 'value': 'High...</td>\n",
       "      <td>{'id': 'LNX', 'iso2code': 'XX', 'value': 'Not ...</td>\n",
       "      <td>Oranjestad</td>\n",
       "      <td>-70.0167</td>\n",
       "      <td>12.5167</td>\n",
       "    </tr>\n",
       "    <tr>\n",
       "      <th>1</th>\n",
       "      <td>AFE</td>\n",
       "      <td>ZH</td>\n",
       "      <td>Africa Eastern and Southern</td>\n",
       "      <td>{'id': 'NA', 'iso2code': 'NA', 'value': 'Aggre...</td>\n",
       "      <td>{'id': '', 'iso2code': '', 'value': ''}</td>\n",
       "      <td>{'id': 'NA', 'iso2code': 'NA', 'value': 'Aggre...</td>\n",
       "      <td>{'id': '', 'iso2code': '', 'value': 'Aggregates'}</td>\n",
       "      <td></td>\n",
       "      <td></td>\n",
       "      <td></td>\n",
       "    </tr>\n",
       "    <tr>\n",
       "      <th>2</th>\n",
       "      <td>AFG</td>\n",
       "      <td>AF</td>\n",
       "      <td>Afghanistan</td>\n",
       "      <td>{'id': 'SAS', 'iso2code': '8S', 'value': 'Sout...</td>\n",
       "      <td>{'id': 'SAS', 'iso2code': '8S', 'value': 'Sout...</td>\n",
       "      <td>{'id': 'LIC', 'iso2code': 'XM', 'value': 'Low ...</td>\n",
       "      <td>{'id': 'IDX', 'iso2code': 'XI', 'value': 'IDA'}</td>\n",
       "      <td>Kabul</td>\n",
       "      <td>69.1761</td>\n",
       "      <td>34.5228</td>\n",
       "    </tr>\n",
       "    <tr>\n",
       "      <th>3</th>\n",
       "      <td>AFR</td>\n",
       "      <td>A9</td>\n",
       "      <td>Africa</td>\n",
       "      <td>{'id': 'NA', 'iso2code': 'NA', 'value': 'Aggre...</td>\n",
       "      <td>{'id': '', 'iso2code': '', 'value': ''}</td>\n",
       "      <td>{'id': 'NA', 'iso2code': 'NA', 'value': 'Aggre...</td>\n",
       "      <td>{'id': '', 'iso2code': '', 'value': 'Aggregates'}</td>\n",
       "      <td></td>\n",
       "      <td></td>\n",
       "      <td></td>\n",
       "    </tr>\n",
       "    <tr>\n",
       "      <th>4</th>\n",
       "      <td>AFW</td>\n",
       "      <td>ZI</td>\n",
       "      <td>Africa Western and Central</td>\n",
       "      <td>{'id': 'NA', 'iso2code': 'NA', 'value': 'Aggre...</td>\n",
       "      <td>{'id': '', 'iso2code': '', 'value': ''}</td>\n",
       "      <td>{'id': 'NA', 'iso2code': 'NA', 'value': 'Aggre...</td>\n",
       "      <td>{'id': '', 'iso2code': '', 'value': 'Aggregates'}</td>\n",
       "      <td></td>\n",
       "      <td></td>\n",
       "      <td></td>\n",
       "    </tr>\n",
       "    <tr>\n",
       "      <th>5</th>\n",
       "      <td>AGO</td>\n",
       "      <td>AO</td>\n",
       "      <td>Angola</td>\n",
       "      <td>{'id': 'SSF', 'iso2code': 'ZG', 'value': 'Sub-...</td>\n",
       "      <td>{'id': 'SSA', 'iso2code': 'ZF', 'value': 'Sub-...</td>\n",
       "      <td>{'id': 'LMC', 'iso2code': 'XN', 'value': 'Lowe...</td>\n",
       "      <td>{'id': 'IBD', 'iso2code': 'XF', 'value': 'IBRD'}</td>\n",
       "      <td>Luanda</td>\n",
       "      <td>13.242</td>\n",
       "      <td>-8.81155</td>\n",
       "    </tr>\n",
       "    <tr>\n",
       "      <th>6</th>\n",
       "      <td>ALB</td>\n",
       "      <td>AL</td>\n",
       "      <td>Albania</td>\n",
       "      <td>{'id': 'ECS', 'iso2code': 'Z7', 'value': 'Euro...</td>\n",
       "      <td>{'id': 'ECA', 'iso2code': '7E', 'value': 'Euro...</td>\n",
       "      <td>{'id': 'UMC', 'iso2code': 'XT', 'value': 'Uppe...</td>\n",
       "      <td>{'id': 'IBD', 'iso2code': 'XF', 'value': 'IBRD'}</td>\n",
       "      <td>Tirane</td>\n",
       "      <td>19.8172</td>\n",
       "      <td>41.3317</td>\n",
       "    </tr>\n",
       "    <tr>\n",
       "      <th>7</th>\n",
       "      <td>AND</td>\n",
       "      <td>AD</td>\n",
       "      <td>Andorra</td>\n",
       "      <td>{'id': 'ECS', 'iso2code': 'Z7', 'value': 'Euro...</td>\n",
       "      <td>{'id': '', 'iso2code': '', 'value': ''}</td>\n",
       "      <td>{'id': 'HIC', 'iso2code': 'XD', 'value': 'High...</td>\n",
       "      <td>{'id': 'LNX', 'iso2code': 'XX', 'value': 'Not ...</td>\n",
       "      <td>Andorra la Vella</td>\n",
       "      <td>1.5218</td>\n",
       "      <td>42.5075</td>\n",
       "    </tr>\n",
       "    <tr>\n",
       "      <th>8</th>\n",
       "      <td>ARB</td>\n",
       "      <td>1A</td>\n",
       "      <td>Arab World</td>\n",
       "      <td>{'id': 'NA', 'iso2code': 'NA', 'value': 'Aggre...</td>\n",
       "      <td>{'id': '', 'iso2code': '', 'value': ''}</td>\n",
       "      <td>{'id': 'NA', 'iso2code': 'NA', 'value': 'Aggre...</td>\n",
       "      <td>{'id': '', 'iso2code': '', 'value': 'Aggregates'}</td>\n",
       "      <td></td>\n",
       "      <td></td>\n",
       "      <td></td>\n",
       "    </tr>\n",
       "    <tr>\n",
       "      <th>9</th>\n",
       "      <td>ARE</td>\n",
       "      <td>AE</td>\n",
       "      <td>United Arab Emirates</td>\n",
       "      <td>{'id': 'MEA', 'iso2code': 'ZQ', 'value': 'Midd...</td>\n",
       "      <td>{'id': '', 'iso2code': '', 'value': ''}</td>\n",
       "      <td>{'id': 'HIC', 'iso2code': 'XD', 'value': 'High...</td>\n",
       "      <td>{'id': 'LNX', 'iso2code': 'XX', 'value': 'Not ...</td>\n",
       "      <td>Abu Dhabi</td>\n",
       "      <td>54.3705</td>\n",
       "      <td>24.4764</td>\n",
       "    </tr>\n",
       "    <tr>\n",
       "      <th>10</th>\n",
       "      <td>ARG</td>\n",
       "      <td>AR</td>\n",
       "      <td>Argentina</td>\n",
       "      <td>{'id': 'LCN', 'iso2code': 'ZJ', 'value': 'Lati...</td>\n",
       "      <td>{'id': 'LAC', 'iso2code': 'XJ', 'value': 'Lati...</td>\n",
       "      <td>{'id': 'UMC', 'iso2code': 'XT', 'value': 'Uppe...</td>\n",
       "      <td>{'id': 'IBD', 'iso2code': 'XF', 'value': 'IBRD'}</td>\n",
       "      <td>Buenos Aires</td>\n",
       "      <td>-58.4173</td>\n",
       "      <td>-34.6118</td>\n",
       "    </tr>\n",
       "    <tr>\n",
       "      <th>11</th>\n",
       "      <td>ARM</td>\n",
       "      <td>AM</td>\n",
       "      <td>Armenia</td>\n",
       "      <td>{'id': 'ECS', 'iso2code': 'Z7', 'value': 'Euro...</td>\n",
       "      <td>{'id': 'ECA', 'iso2code': '7E', 'value': 'Euro...</td>\n",
       "      <td>{'id': 'UMC', 'iso2code': 'XT', 'value': 'Uppe...</td>\n",
       "      <td>{'id': 'IBD', 'iso2code': 'XF', 'value': 'IBRD'}</td>\n",
       "      <td>Yerevan</td>\n",
       "      <td>44.509</td>\n",
       "      <td>40.1596</td>\n",
       "    </tr>\n",
       "    <tr>\n",
       "      <th>12</th>\n",
       "      <td>ASM</td>\n",
       "      <td>AS</td>\n",
       "      <td>American Samoa</td>\n",
       "      <td>{'id': 'EAS', 'iso2code': 'Z4', 'value': 'East...</td>\n",
       "      <td>{'id': 'EAP', 'iso2code': '4E', 'value': 'East...</td>\n",
       "      <td>{'id': 'UMC', 'iso2code': 'XT', 'value': 'Uppe...</td>\n",
       "      <td>{'id': 'LNX', 'iso2code': 'XX', 'value': 'Not ...</td>\n",
       "      <td>Pago Pago</td>\n",
       "      <td>-170.691</td>\n",
       "      <td>-14.2846</td>\n",
       "    </tr>\n",
       "    <tr>\n",
       "      <th>13</th>\n",
       "      <td>ATG</td>\n",
       "      <td>AG</td>\n",
       "      <td>Antigua and Barbuda</td>\n",
       "      <td>{'id': 'LCN', 'iso2code': 'ZJ', 'value': 'Lati...</td>\n",
       "      <td>{'id': '', 'iso2code': '', 'value': ''}</td>\n",
       "      <td>{'id': 'HIC', 'iso2code': 'XD', 'value': 'High...</td>\n",
       "      <td>{'id': 'IBD', 'iso2code': 'XF', 'value': 'IBRD'}</td>\n",
       "      <td>Saint John's</td>\n",
       "      <td>-61.8456</td>\n",
       "      <td>17.1175</td>\n",
       "    </tr>\n",
       "    <tr>\n",
       "      <th>14</th>\n",
       "      <td>AUS</td>\n",
       "      <td>AU</td>\n",
       "      <td>Australia</td>\n",
       "      <td>{'id': 'EAS', 'iso2code': 'Z4', 'value': 'East...</td>\n",
       "      <td>{'id': '', 'iso2code': '', 'value': ''}</td>\n",
       "      <td>{'id': 'HIC', 'iso2code': 'XD', 'value': 'High...</td>\n",
       "      <td>{'id': 'LNX', 'iso2code': 'XX', 'value': 'Not ...</td>\n",
       "      <td>Canberra</td>\n",
       "      <td>149.129</td>\n",
       "      <td>-35.282</td>\n",
       "    </tr>\n",
       "  </tbody>\n",
       "</table>\n",
       "</div>"
      ],
      "text/plain": [
       "     id iso2Code                         name  \\\n",
       "0   ABW       AW                        Aruba   \n",
       "1   AFE       ZH  Africa Eastern and Southern   \n",
       "2   AFG       AF                  Afghanistan   \n",
       "3   AFR       A9                       Africa   \n",
       "4   AFW       ZI   Africa Western and Central   \n",
       "5   AGO       AO                       Angola   \n",
       "6   ALB       AL                      Albania   \n",
       "7   AND       AD                      Andorra   \n",
       "8   ARB       1A                   Arab World   \n",
       "9   ARE       AE         United Arab Emirates   \n",
       "10  ARG       AR                    Argentina   \n",
       "11  ARM       AM                      Armenia   \n",
       "12  ASM       AS               American Samoa   \n",
       "13  ATG       AG          Antigua and Barbuda   \n",
       "14  AUS       AU                    Australia   \n",
       "\n",
       "                                               region  \\\n",
       "0   {'id': 'LCN', 'iso2code': 'ZJ', 'value': 'Lati...   \n",
       "1   {'id': 'NA', 'iso2code': 'NA', 'value': 'Aggre...   \n",
       "2   {'id': 'SAS', 'iso2code': '8S', 'value': 'Sout...   \n",
       "3   {'id': 'NA', 'iso2code': 'NA', 'value': 'Aggre...   \n",
       "4   {'id': 'NA', 'iso2code': 'NA', 'value': 'Aggre...   \n",
       "5   {'id': 'SSF', 'iso2code': 'ZG', 'value': 'Sub-...   \n",
       "6   {'id': 'ECS', 'iso2code': 'Z7', 'value': 'Euro...   \n",
       "7   {'id': 'ECS', 'iso2code': 'Z7', 'value': 'Euro...   \n",
       "8   {'id': 'NA', 'iso2code': 'NA', 'value': 'Aggre...   \n",
       "9   {'id': 'MEA', 'iso2code': 'ZQ', 'value': 'Midd...   \n",
       "10  {'id': 'LCN', 'iso2code': 'ZJ', 'value': 'Lati...   \n",
       "11  {'id': 'ECS', 'iso2code': 'Z7', 'value': 'Euro...   \n",
       "12  {'id': 'EAS', 'iso2code': 'Z4', 'value': 'East...   \n",
       "13  {'id': 'LCN', 'iso2code': 'ZJ', 'value': 'Lati...   \n",
       "14  {'id': 'EAS', 'iso2code': 'Z4', 'value': 'East...   \n",
       "\n",
       "                                          adminregion  \\\n",
       "0             {'id': '', 'iso2code': '', 'value': ''}   \n",
       "1             {'id': '', 'iso2code': '', 'value': ''}   \n",
       "2   {'id': 'SAS', 'iso2code': '8S', 'value': 'Sout...   \n",
       "3             {'id': '', 'iso2code': '', 'value': ''}   \n",
       "4             {'id': '', 'iso2code': '', 'value': ''}   \n",
       "5   {'id': 'SSA', 'iso2code': 'ZF', 'value': 'Sub-...   \n",
       "6   {'id': 'ECA', 'iso2code': '7E', 'value': 'Euro...   \n",
       "7             {'id': '', 'iso2code': '', 'value': ''}   \n",
       "8             {'id': '', 'iso2code': '', 'value': ''}   \n",
       "9             {'id': '', 'iso2code': '', 'value': ''}   \n",
       "10  {'id': 'LAC', 'iso2code': 'XJ', 'value': 'Lati...   \n",
       "11  {'id': 'ECA', 'iso2code': '7E', 'value': 'Euro...   \n",
       "12  {'id': 'EAP', 'iso2code': '4E', 'value': 'East...   \n",
       "13            {'id': '', 'iso2code': '', 'value': ''}   \n",
       "14            {'id': '', 'iso2code': '', 'value': ''}   \n",
       "\n",
       "                                          incomeLevel  \\\n",
       "0   {'id': 'HIC', 'iso2code': 'XD', 'value': 'High...   \n",
       "1   {'id': 'NA', 'iso2code': 'NA', 'value': 'Aggre...   \n",
       "2   {'id': 'LIC', 'iso2code': 'XM', 'value': 'Low ...   \n",
       "3   {'id': 'NA', 'iso2code': 'NA', 'value': 'Aggre...   \n",
       "4   {'id': 'NA', 'iso2code': 'NA', 'value': 'Aggre...   \n",
       "5   {'id': 'LMC', 'iso2code': 'XN', 'value': 'Lowe...   \n",
       "6   {'id': 'UMC', 'iso2code': 'XT', 'value': 'Uppe...   \n",
       "7   {'id': 'HIC', 'iso2code': 'XD', 'value': 'High...   \n",
       "8   {'id': 'NA', 'iso2code': 'NA', 'value': 'Aggre...   \n",
       "9   {'id': 'HIC', 'iso2code': 'XD', 'value': 'High...   \n",
       "10  {'id': 'UMC', 'iso2code': 'XT', 'value': 'Uppe...   \n",
       "11  {'id': 'UMC', 'iso2code': 'XT', 'value': 'Uppe...   \n",
       "12  {'id': 'UMC', 'iso2code': 'XT', 'value': 'Uppe...   \n",
       "13  {'id': 'HIC', 'iso2code': 'XD', 'value': 'High...   \n",
       "14  {'id': 'HIC', 'iso2code': 'XD', 'value': 'High...   \n",
       "\n",
       "                                          lendingType       capitalCity  \\\n",
       "0   {'id': 'LNX', 'iso2code': 'XX', 'value': 'Not ...        Oranjestad   \n",
       "1   {'id': '', 'iso2code': '', 'value': 'Aggregates'}                     \n",
       "2     {'id': 'IDX', 'iso2code': 'XI', 'value': 'IDA'}             Kabul   \n",
       "3   {'id': '', 'iso2code': '', 'value': 'Aggregates'}                     \n",
       "4   {'id': '', 'iso2code': '', 'value': 'Aggregates'}                     \n",
       "5    {'id': 'IBD', 'iso2code': 'XF', 'value': 'IBRD'}            Luanda   \n",
       "6    {'id': 'IBD', 'iso2code': 'XF', 'value': 'IBRD'}            Tirane   \n",
       "7   {'id': 'LNX', 'iso2code': 'XX', 'value': 'Not ...  Andorra la Vella   \n",
       "8   {'id': '', 'iso2code': '', 'value': 'Aggregates'}                     \n",
       "9   {'id': 'LNX', 'iso2code': 'XX', 'value': 'Not ...         Abu Dhabi   \n",
       "10   {'id': 'IBD', 'iso2code': 'XF', 'value': 'IBRD'}      Buenos Aires   \n",
       "11   {'id': 'IBD', 'iso2code': 'XF', 'value': 'IBRD'}           Yerevan   \n",
       "12  {'id': 'LNX', 'iso2code': 'XX', 'value': 'Not ...         Pago Pago   \n",
       "13   {'id': 'IBD', 'iso2code': 'XF', 'value': 'IBRD'}      Saint John's   \n",
       "14  {'id': 'LNX', 'iso2code': 'XX', 'value': 'Not ...          Canberra   \n",
       "\n",
       "   longitude  latitude  \n",
       "0   -70.0167   12.5167  \n",
       "1                       \n",
       "2    69.1761   34.5228  \n",
       "3                       \n",
       "4                       \n",
       "5     13.242  -8.81155  \n",
       "6    19.8172   41.3317  \n",
       "7     1.5218   42.5075  \n",
       "8                       \n",
       "9    54.3705   24.4764  \n",
       "10  -58.4173  -34.6118  \n",
       "11    44.509   40.1596  \n",
       "12  -170.691  -14.2846  \n",
       "13  -61.8456   17.1175  \n",
       "14   149.129   -35.282  "
      ]
     },
     "execution_count": 50,
     "metadata": {},
     "output_type": "execute_result"
    }
   ],
   "source": [
    "dataframe2.head(15)"
   ]
  },
  {
   "cell_type": "code",
   "execution_count": 64,
   "metadata": {},
   "outputs": [
    {
     "data": {
      "text/plain": [
       "Index(['id', 'iso2Code', 'name', 'region', 'adminregion', 'incomeLevel',\n",
       "       'lendingType', 'capitalCity', 'longitude', 'latitude'],\n",
       "      dtype='object')"
      ]
     },
     "execution_count": 64,
     "metadata": {},
     "output_type": "execute_result"
    }
   ],
   "source": [
    "dataframe2.columns"
   ]
  },
  {
   "cell_type": "code",
   "execution_count": 78,
   "metadata": {},
   "outputs": [],
   "source": [
    "dataframe2.to_csv(\"WorldCountries.csv\")"
   ]
  },
  {
   "cell_type": "code",
   "execution_count": 79,
   "metadata": {},
   "outputs": [
    {
     "data": {
      "text/plain": [
       "Index(['Cities', 'ChickFilA', 'McDonalds', 'Total_Restaraunts',\n",
       "       'PercentChickFilA', 'PercentMcDonalds'],\n",
       "      dtype='object')"
      ]
     },
     "execution_count": 79,
     "metadata": {},
     "output_type": "execute_result"
    }
   ],
   "source": [
    "dataframe.columns"
   ]
  },
  {
   "cell_type": "code",
   "execution_count": 80,
   "metadata": {},
   "outputs": [],
   "source": [
    "column = [\"Batman\",\"Superman\",\"IronMan\"]\n",
    "titled_column = {\"name\": column,\n",
    "                \"height\": [6.3,6.5,5.9],\n",
    "                \"weight\": [210,500,180]}\n"
   ]
  },
  {
   "cell_type": "code",
   "execution_count": 81,
   "metadata": {},
   "outputs": [
    {
     "name": "stdout",
     "output_type": "stream",
     "text": [
      "       name  height  weight\n",
      "0    Batman     6.3     210\n",
      "1  Superman     6.5     500\n",
      "2   IronMan     5.9     180\n"
     ]
    }
   ],
   "source": [
    "##print the data\n",
    "data = pd.DataFrame(titled_column)\n",
    "print(data)"
   ]
  },
  {
   "cell_type": "code",
   "execution_count": 82,
   "metadata": {},
   "outputs": [
    {
     "name": "stdout",
     "output_type": "stream",
     "text": [
      "0    210\n",
      "1    500\n",
      "2    180\n",
      "Name: weight, dtype: int64\n"
     ]
    }
   ],
   "source": [
    "##choose a specific column of data to show\n",
    "data = pd.DataFrame(titled_column)\n",
    "selected_column = data[\"weight\"]\n",
    "print(selected_column)"
   ]
  },
  {
   "cell_type": "code",
   "execution_count": 83,
   "metadata": {},
   "outputs": [
    {
     "name": "stdout",
     "output_type": "stream",
     "text": [
      "500\n"
     ]
    }
   ],
   "source": [
    "##only show or print a certain row from a column\n",
    "data = pd.DataFrame(titled_column)\n",
    "selected_column = data[\"weight\"]\n",
    "selected_row = data.iloc[1][\"weight\"]\n",
    "print(selected_row)"
   ]
  },
  {
   "cell_type": "code",
   "execution_count": 84,
   "metadata": {},
   "outputs": [
    {
     "name": "stdout",
     "output_type": "stream",
     "text": [
      "       name  height  weight        bmi\n",
      "0    Batman     6.3     210   5.291005\n",
      "1  Superman     6.5     500  11.834320\n",
      "2   IronMan     5.9     180   5.170928\n"
     ]
    }
   ],
   "source": [
    "##manipulate the data\n",
    "bmi = []\n",
    "#weight/(height**2)\n",
    "for i in range(len(data)):\n",
    "    bmi_score = data[\"weight\"][i]/(data[\"height\"][i]**2)\n",
    "    bmi.append(bmi_score)\n",
    "\n",
    "data[\"bmi\"] = bmi\n",
    "\n",
    "print(data)"
   ]
  },
  {
   "cell_type": "code",
   "execution_count": 85,
   "metadata": {},
   "outputs": [
    {
     "name": "stdout",
     "output_type": "stream",
     "text": [
      "       name  height  weight        bmi\n",
      "0    Batman     6.3     210   5.291005\n",
      "1  Superman     6.5     500  11.834320\n",
      "2   IronMan     5.9     180   5.170928\n"
     ]
    }
   ],
   "source": [
    "##How to save data into a file\n",
    "print(data)\n",
    "data.to_json(\"DataTest.json\")"
   ]
  },
  {
   "cell_type": "code",
   "execution_count": 86,
   "metadata": {},
   "outputs": [
    {
     "data": {
      "text/html": [
       "<div>\n",
       "<style scoped>\n",
       "    .dataframe tbody tr th:only-of-type {\n",
       "        vertical-align: middle;\n",
       "    }\n",
       "\n",
       "    .dataframe tbody tr th {\n",
       "        vertical-align: top;\n",
       "    }\n",
       "\n",
       "    .dataframe thead th {\n",
       "        text-align: right;\n",
       "    }\n",
       "</style>\n",
       "<table border=\"1\" class=\"dataframe\">\n",
       "  <thead>\n",
       "    <tr style=\"text-align: right;\">\n",
       "      <th></th>\n",
       "      <th>name</th>\n",
       "      <th>height</th>\n",
       "      <th>weight</th>\n",
       "      <th>bmi</th>\n",
       "    </tr>\n",
       "  </thead>\n",
       "  <tbody>\n",
       "    <tr>\n",
       "      <th>0</th>\n",
       "      <td>Batman</td>\n",
       "      <td>6.3</td>\n",
       "      <td>210</td>\n",
       "      <td>5.291005</td>\n",
       "    </tr>\n",
       "    <tr>\n",
       "      <th>1</th>\n",
       "      <td>Superman</td>\n",
       "      <td>6.5</td>\n",
       "      <td>500</td>\n",
       "      <td>11.834320</td>\n",
       "    </tr>\n",
       "    <tr>\n",
       "      <th>2</th>\n",
       "      <td>IronMan</td>\n",
       "      <td>5.9</td>\n",
       "      <td>180</td>\n",
       "      <td>5.170928</td>\n",
       "    </tr>\n",
       "  </tbody>\n",
       "</table>\n",
       "</div>"
      ],
      "text/plain": [
       "       name  height  weight        bmi\n",
       "0    Batman     6.3     210   5.291005\n",
       "1  Superman     6.5     500  11.834320\n",
       "2   IronMan     5.9     180   5.170928"
      ]
     },
     "execution_count": 86,
     "metadata": {},
     "output_type": "execute_result"
    }
   ],
   "source": [
    "##Importing data from a Json file // For csv file just change read_json to read_csv\n",
    "import pandas as pd\n",
    "\n",
    "NewData = pd.read_json(\"DataTest.json\")\n",
    "NewData.head()"
   ]
  },
  {
   "cell_type": "code",
   "execution_count": 87,
   "metadata": {},
   "outputs": [
    {
     "name": "stdout",
     "output_type": "stream",
     "text": [
      "   release_year          release_name          city\n",
      "2          2001  Grand Theft Auto III  Liberty City\n",
      "5          2008   Grand Theft Auto IV  Liberty City\n"
     ]
    }
   ],
   "source": [
    "##import a sqlite3 database\n",
    "import sqlite3\n",
    "connection = sqlite3.connect(\"gta.db\")\n",
    "GTAdata = pd.read_sql(\"SELECT * FROM gta\", connection)\n",
    "first_5_rows = GTAdata.head()\n",
    "last_2_rows = GTAdata.tail(2)\n",
    "\n",
    "#Select only specific rows from the DB into a variable\n",
    "filtered_row = GTAdata[GTAdata[\"city\"] == \"Liberty City\"]\n",
    "print(filtered_row)\n"
   ]
  },
  {
   "cell_type": "code",
   "execution_count": 88,
   "metadata": {},
   "outputs": [
    {
     "name": "stdout",
     "output_type": "stream",
     "text": [
      "   release_year                   release_name                   city\n",
      "0          1997               Grand Theft Auto  state of New Guernsey\n",
      "1          1999             Grand Theft Auto 2          Anywhere, USA\n",
      "2          2001           Grand Theft Auto III               New York\n",
      "3          2002    Grand Theft Auto: Vice City              Vice City\n",
      "4          2004  Grand Theft Auto: San Andreas   state of San Andreas\n",
      "5          2008            Grand Theft Auto IV               New York\n",
      "6          2013             Grand Theft Auto V             Los Santos\n"
     ]
    }
   ],
   "source": [
    "##Replace data in the DB with new data\n",
    "replaced_city = GTAdata.replace(\"Liberty City\", \"New York\")\n",
    "print(replaced_city)"
   ]
  },
  {
   "cell_type": "code",
   "execution_count": 89,
   "metadata": {},
   "outputs": [
    {
     "name": "stdout",
     "output_type": "stream",
     "text": [
      "   release_year                   release_name\n",
      "0          1997               Grand Theft Auto\n",
      "1          1999             Grand Theft Auto 2\n",
      "2          2001           Grand Theft Auto III\n",
      "3          2002    Grand Theft Auto: Vice City\n",
      "4          2004  Grand Theft Auto: San Andreas\n",
      "5          2008            Grand Theft Auto IV\n",
      "6          2013             Grand Theft Auto V\n"
     ]
    }
   ],
   "source": [
    "#remove columns \n",
    "# axis=1 is collumns and axis=0 is rows\n",
    "\n",
    "## How to remove multiple columns \n",
    "# remove_data = GTAdata.drop([\"city\",\"release_year\"], axis=1)\n",
    "\n",
    "remove_data = GTAdata.drop(\"city\", axis=1)\n",
    "print(remove_data)"
   ]
  },
  {
   "cell_type": "code",
   "execution_count": 90,
   "metadata": {},
   "outputs": [
    {
     "name": "stdout",
     "output_type": "stream",
     "text": [
      "   release_year                   release_name                  city\n",
      "1          1999             Grand Theft Auto 2         Anywhere, USA\n",
      "2          2001           Grand Theft Auto III          Liberty City\n",
      "3          2002    Grand Theft Auto: Vice City             Vice City\n",
      "4          2004  Grand Theft Auto: San Andreas  state of San Andreas\n",
      "5          2008            Grand Theft Auto IV          Liberty City\n"
     ]
    }
   ],
   "source": [
    "##Remove rows\n",
    "\n",
    "remove_rows = GTAdata.iloc[1:6]\n",
    "print(remove_rows)"
   ]
  },
  {
   "cell_type": "code",
   "execution_count": 91,
   "metadata": {},
   "outputs": [
    {
     "name": "stdout",
     "output_type": "stream",
     "text": [
      "  release_year                   release_name                   city\n",
      "0         1997               Grand Theft Auto  state of New Guernsey\n",
      "1         1999             Grand Theft Auto 2          Anywhere, USA\n",
      "2         2001           Grand Theft Auto III           Liberty City\n",
      "3         2002    Grand Theft Auto: Vice City              Vice City\n",
      "4         2004  Grand Theft Auto: San Andreas   state of San Andreas\n",
      "5         2008            Grand Theft Auto IV           Liberty City\n",
      "6         2013             Grand Theft Auto V             Los Santos\n",
      "7         2021         Natural Vision Evolved            Los Angeles\n"
     ]
    },
    {
     "name": "stderr",
     "output_type": "stream",
     "text": [
      "C:\\Users\\dylan\\AppData\\Local\\Temp\\ipykernel_38260\\2675679750.py:7: FutureWarning: The frame.append method is deprecated and will be removed from pandas in a future version. Use pandas.concat instead.\n",
      "  new_role_data = GTAdata.append(row, ignore_index=True)\n"
     ]
    }
   ],
   "source": [
    "##Add new rows to the dataframe\n",
    "\n",
    "row = {\"release_year\": \"2021\",\n",
    "       \"release_name\": \"Natural Vision Evolved\",\n",
    "       \"city\": \"Los Angeles\"}\n",
    "\n",
    "new_role_data = GTAdata.append(row, ignore_index=True)\n",
    "print(new_role_data)"
   ]
  }
 ],
 "metadata": {
  "kernelspec": {
   "display_name": "Python 3",
   "language": "python",
   "name": "python3"
  },
  "language_info": {
   "codemirror_mode": {
    "name": "ipython",
    "version": 3
   },
   "file_extension": ".py",
   "mimetype": "text/x-python",
   "name": "python",
   "nbconvert_exporter": "python",
   "pygments_lexer": "ipython3",
   "version": "3.10.4 (tags/v3.10.4:9d38120, Mar 23 2022, 23:13:41) [MSC v.1929 64 bit (AMD64)]"
  },
  "orig_nbformat": 4,
  "vscode": {
   "interpreter": {
    "hash": "f6e50919dca9dcf1bfe3a21af5f5f6314365d98f6791527d5c55195172cb198d"
   }
  }
 },
 "nbformat": 4,
 "nbformat_minor": 2
}
